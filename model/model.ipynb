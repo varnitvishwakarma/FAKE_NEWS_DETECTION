{
 "cells": [
  {
   "cell_type": "code",
   "execution_count": 11,
   "metadata": {},
   "outputs": [
    {
     "name": "stdout",
     "output_type": "stream",
     "text": [
      "Accuracy: 0.9868596881959911\n",
      "Classification Report:\n",
      "              precision    recall  f1-score   support\n",
      "\n",
      "           0       0.99      0.99      0.99      4729\n",
      "           1       0.99      0.99      0.99      4251\n",
      "\n",
      "    accuracy                           0.99      8980\n",
      "   macro avg       0.99      0.99      0.99      8980\n",
      "weighted avg       0.99      0.99      0.99      8980\n",
      "\n"
     ]
    }
   ],
   "source": [
    "import pandas as pd\n",
    "from sklearn.feature_extraction.text import TfidfVectorizer\n",
    "from sklearn.model_selection import train_test_split\n",
    "from sklearn.linear_model import LogisticRegression\n",
    "from sklearn.metrics import accuracy_score, classification_report\n",
    "\n",
    "\n",
    "true_df = pd.read_csv(\"C:\\\\Users\\\\tusha\\\\OneDrive\\\\Desktop\\\\nlp project\\\\Dataset\\\\True.csv\")\n",
    "fake_df = pd.read_csv(\"C:\\\\Users\\\\tusha\\\\OneDrive\\\\Desktop\\\\nlp project\\\\Dataset\\\\Fake.csv\")\n",
    "\n",
    "true_df[\"label\"] = 1\n",
    "fake_df[\"label\"] = 0\n",
    "\n",
    "combined_df = pd.concat([true_df, fake_df], ignore_index=True)\n",
    "\n",
    "combined_df = combined_df.sample(frac=1).reset_index(drop=True)\n",
    "\n",
    "\n",
    "combined_df[\"text\"] = combined_df[\"text\"].str.lower().str.replace('[^\\w\\s]', '')\n",
    "\n",
    "vectorizer = TfidfVectorizer(stop_words=\"english\")\n",
    "X = vectorizer.fit_transform(combined_df[\"text\"])\n",
    "y = combined_df[\"label\"]\n",
    "\n",
    "\n",
    "X_train, X_test, y_train, y_test = train_test_split(X, y, test_size=0.2, random_state=42)\n",
    "\n",
    "\n",
    "model = LogisticRegression()\n",
    "model.fit(X_train, y_train)\n",
    "\n",
    "\n",
    "y_pred = model.predict(X_test)\n",
    "accuracy = accuracy_score(y_test, y_pred)\n",
    "print(\"Accuracy:\", accuracy)\n",
    "print(\"Classification Report:\")\n",
    "print(classification_report(y_test, y_pred))\n"
   ]
  },
  {
   "cell_type": "code",
   "execution_count": 12,
   "metadata": {},
   "outputs": [],
   "source": [
    "import pickle"
   ]
  },
  {
   "cell_type": "code",
   "execution_count": 13,
   "metadata": {},
   "outputs": [],
   "source": [
    "file = open(\"C:/Users/tusha/OneDrive/Desktop/nlp project/Dataset/artifacts/model.pkl\", \"wb\")"
   ]
  },
  {
   "cell_type": "code",
   "execution_count": 14,
   "metadata": {},
   "outputs": [],
   "source": [
    "pickle.dump(model,file)\n",
    "file.close()"
   ]
  },
  {
   "cell_type": "code",
   "execution_count": 15,
   "metadata": {},
   "outputs": [],
   "source": [
    "file1 = open(\"C:/Users/tusha/OneDrive/Desktop/nlp project/Dataset/artifacts/vertorizer.pkl\", \"wb\")"
   ]
  },
  {
   "cell_type": "code",
   "execution_count": 16,
   "metadata": {},
   "outputs": [],
   "source": [
    "\n",
    "pickle.dump(vectorizer,file1)\n",
    "file1.close()"
   ]
  },
  {
   "cell_type": "code",
   "execution_count": 17,
   "metadata": {},
   "outputs": [
    {
     "name": "stdout",
     "output_type": "stream",
     "text": [
      "Prediction: Fake news\n"
     ]
    }
   ],
   "source": [
    "\n",
    "example_text = [\"Donald Trump Sends Out Embarrassing New Year’s Eve Message; This is Disturbing\"]\n",
    "example_text_preprocessed = [text.lower().replace('[^\\w\\s]', '') for text in example_text]\n",
    "example_text_features = vectorizer.transform(example_text_preprocessed)\n",
    "example_prediction = model.predict(example_text_features)\n",
    "if example_prediction[0] == 1:\n",
    "    print(\"Prediction: True news\")\n",
    "else:\n",
    "    print(\"Prediction: Fake news\")\n"
   ]
  },
  {
   "cell_type": "code",
   "execution_count": null,
   "metadata": {},
   "outputs": [],
   "source": []
  }
 ],
 "metadata": {
  "kernelspec": {
   "display_name": "base",
   "language": "python",
   "name": "python3"
  },
  "language_info": {
   "codemirror_mode": {
    "name": "ipython",
    "version": 3
   },
   "file_extension": ".py",
   "mimetype": "text/x-python",
   "name": "python",
   "nbconvert_exporter": "python",
   "pygments_lexer": "ipython3",
   "version": "3.11.7"
  }
 },
 "nbformat": 4,
 "nbformat_minor": 2
}
